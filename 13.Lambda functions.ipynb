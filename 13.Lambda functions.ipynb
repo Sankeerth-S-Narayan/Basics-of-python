{
 "cells": [
  {
   "cell_type": "markdown",
   "id": "f4e80cd3",
   "metadata": {},
   "source": [
    "# lambda keyword is used to create lambda functions "
   ]
  },
  {
   "cell_type": "code",
   "execution_count": null,
   "id": "0fad1cd6",
   "metadata": {},
   "outputs": [],
   "source": [
    "#simple lambda function"
   ]
  },
  {
   "cell_type": "code",
   "execution_count": 1,
   "id": "72b6d5c1",
   "metadata": {},
   "outputs": [
    {
     "data": {
      "text/plain": [
       "6"
      ]
     },
     "execution_count": 1,
     "metadata": {},
     "output_type": "execute_result"
    }
   ],
   "source": [
    "greater=lambda a,b:a if a>b else b\n",
    "greater(5,6)"
   ]
  },
  {
   "cell_type": "code",
   "execution_count": 2,
   "id": "bcf60bef",
   "metadata": {},
   "outputs": [],
   "source": [
    "#using map function"
   ]
  },
  {
   "cell_type": "code",
   "execution_count": 3,
   "id": "c90e5213",
   "metadata": {},
   "outputs": [
    {
     "data": {
      "text/plain": [
       "[1, 4, 9, 16, 25, 36, 49, 64, 81, 100]"
      ]
     },
     "execution_count": 3,
     "metadata": {},
     "output_type": "execute_result"
    }
   ],
   "source": [
    "num=list(range(1,11))\n",
    "nums=list(map(lambda a:a**2,num))\n",
    "nums"
   ]
  },
  {
   "cell_type": "code",
   "execution_count": 4,
   "id": "fb7e84d6",
   "metadata": {},
   "outputs": [],
   "source": [
    "#using filter function"
   ]
  },
  {
   "cell_type": "code",
   "execution_count": 5,
   "id": "00bf8897",
   "metadata": {},
   "outputs": [
    {
     "data": {
      "text/plain": [
       "[5, 10]"
      ]
     },
     "execution_count": 5,
     "metadata": {},
     "output_type": "execute_result"
    }
   ],
   "source": [
    "num=list(range(1,11))\n",
    "nums=list(filter(lambda a:a%5==0,num))\n",
    "nums"
   ]
  },
  {
   "cell_type": "code",
   "execution_count": 6,
   "id": "d4995e50",
   "metadata": {},
   "outputs": [],
   "source": [
    "#using reduce function"
   ]
  },
  {
   "cell_type": "code",
   "execution_count": 7,
   "id": "1b4e149b",
   "metadata": {},
   "outputs": [
    {
     "data": {
      "text/plain": [
       "3628800"
      ]
     },
     "execution_count": 7,
     "metadata": {},
     "output_type": "execute_result"
    }
   ],
   "source": [
    "from functools import reduce\n",
    "num=list(range(1,11))\n",
    "reduce(lambda a,b:a*b,num)\n"
   ]
  }
 ],
 "metadata": {
  "kernelspec": {
   "display_name": "Python 3",
   "language": "python",
   "name": "python3"
  },
  "language_info": {
   "codemirror_mode": {
    "name": "ipython",
    "version": 3
   },
   "file_extension": ".py",
   "mimetype": "text/x-python",
   "name": "python",
   "nbconvert_exporter": "python",
   "pygments_lexer": "ipython3",
   "version": "3.8.8"
  }
 },
 "nbformat": 4,
 "nbformat_minor": 5
}
