{
 "cells": [
  {
   "cell_type": "markdown",
   "id": "cadb9ffd",
   "metadata": {},
   "source": [
    "# 1. Given below are a list of positive and negative words. Also a list of comments is provided. Segregate the comments based on positive and negative sentiments.\n",
    "positive = ['good','awesome', 'best', 'nice']\n",
    "negative = ['worst','awful']\n",
    "comments = ['He is a good boy',\n",
    " 'Food is the worst here',\n",
    " 'He is an awesome player',\n",
    " 'She is the best',\n",
    " 'This pizza tastes awful',\n",
    " 'These burger are really nice']"
   ]
  },
  {
   "cell_type": "code",
   "execution_count": 10,
   "id": "1552739d",
   "metadata": {},
   "outputs": [
    {
     "name": "stdout",
     "output_type": "stream",
     "text": [
      "Positive Comments:\n",
      "He is a good boy\n",
      "He is an awesome player\n",
      "She is the best\n",
      "These burger are really nice\n",
      "\n",
      "Negative comments:\n",
      "Food is the worst here\n",
      "This pizza tastes awful\n"
     ]
    }
   ],
   "source": [
    "positive = ['good','awesome', 'best', 'nice']\n",
    "negative = ['worst','awful', 'bad']\n",
    "comments = ['He is a good boy',\n",
    " 'Food is the worst here',\n",
    " 'He is an awesome player',\n",
    " 'She is the best',\n",
    " 'This pizza tastes awful',\n",
    " 'These burger are really nice']\n",
    "print(\"Positive Comments:\")\n",
    "for i in range(0,len(comments)):\n",
    "    for pos in positive:\n",
    "        if pos in comments[i]:\n",
    "            print(comments[i])\n",
    "print(\"\\nNegative comments:\")\n",
    "for i in range(0,len(comments)):\n",
    "    for neg in negative:\n",
    "        if neg in comments[i]:\n",
    "            print(comments[i])\n"
   ]
  },
  {
   "cell_type": "markdown",
   "id": "53d71899",
   "metadata": {},
   "source": [
    "# 2. Create a dictionary containing three lambda functions square, cube and square root.\n",
    "E.g. dict = {'Square': function for squaring, 'Cube': function for cube, \n",
    "'Squareroot': function for square root}\n",
    "# Pass the values (input from the user) to the functions in the dictionary  respectively. Then add the outputs of each function and print it."
   ]
  },
  {
   "cell_type": "code",
   "execution_count": 17,
   "id": "b133452f",
   "metadata": {},
   "outputs": [
    {
     "name": "stdout",
     "output_type": "stream",
     "text": [
      "Enter the number:5\n",
      "The final sum is: 152.2360679774998\n"
     ]
    }
   ],
   "source": [
    "def lamb(n):\n",
    "    dict = {'Square': lambda x:x*x, 'Cube': lambda x:x*x*x,\n",
    "'Squareroot': lambda x:x**(1/2)}\n",
    "    sum=0\n",
    "    for i in dict.keys():\n",
    "        sum+=dict[i](n)\n",
    "    return sum\n",
    "n=int(input(\"Enter the number:\"))\n",
    "ans=lamb(n)\n",
    "print(\"The final sum is:\",ans)"
   ]
  },
  {
   "cell_type": "markdown",
   "id": "b5ed3731",
   "metadata": {},
   "source": [
    "# 3. Find the fruits that are sour in taste from the tuple given below.\n",
    "fruits = (('Lemon','sour'),\n",
    " ('DragonFruit', 'Sweet'),\n",
    " ('Grapes','soUr'),\n",
    " ('Kiwi','Sour'),\n",
    " ('Apples','sweet'),\n",
    " ('Orange','sour'),\n",
    " ('Blueberries','sweet'),\n",
    " ('Limes','Sour')\n",
    ") \n",
    "Output: \n",
    "Sour Fruits: ['Lemon', 'Grapes', 'Kiwi', 'Orange', 'Limes']\n"
   ]
  },
  {
   "cell_type": "code",
   "execution_count": 49,
   "id": "ade742a9",
   "metadata": {},
   "outputs": [
    {
     "name": "stdout",
     "output_type": "stream",
     "text": [
      "['Lemon', 'Grapes', 'Kiwi', 'Orange', 'Limes']\n"
     ]
    }
   ],
   "source": [
    "fruits = (('Lemon','sour'),\n",
    " ('DragonFruit', 'Sweet'),\n",
    " ('Grapes','soUr'),\n",
    " ('Kiwi','Sour'),\n",
    " ('Apples','sweet'),\n",
    " ('Orange','sour'),\n",
    " ('Blueberries','sweet'),\n",
    " ('Limes','Sour')\n",
    ") \n",
    "a=[]\n",
    "f=list(fruits)\n",
    "for i in range(0,len(f)):\n",
    "    f[i]=list(f[i])\n",
    "    for j in range(0,len(f[i])):\n",
    "        f[i][j]=f[i][j].lower()\n",
    "\n",
    "for i in range(0,len(f)):\n",
    "    if f[i][1]=='sour':\n",
    "        a.append(f[i][0].title())\n",
    "        \n",
    "print(a)    \n"
   ]
  },
  {
   "cell_type": "markdown",
   "id": "4abcd7d2",
   "metadata": {},
   "source": [
    "# 4. A list of words is given. Find the words from the list that have their second character in uppercase.\n",
    "ls = ['hello', 'Dear', 'hOw', 'ARe', 'You']\n",
    "Output: ['hOw', 'ARe']"
   ]
  },
  {
   "cell_type": "code",
   "execution_count": 22,
   "id": "03a2da7a",
   "metadata": {},
   "outputs": [
    {
     "name": "stdout",
     "output_type": "stream",
     "text": [
      "hOw\n",
      "ARe\n"
     ]
    }
   ],
   "source": [
    "ls = ['hello', 'Dear', 'hOw', 'ARe', 'You']\n",
    "for i in ls:\n",
    "    if i[1].isupper():\n",
    "        print(i)\n",
    "        "
   ]
  },
  {
   "cell_type": "markdown",
   "id": "ae100cc4",
   "metadata": {},
   "source": [
    "# 5. A dictionary of names and their weights on earth is given. Find how much they will weigh on the moon. (Use map and lambda functions)\n",
    "Formula : wMoon = (wEarth * GMoon) / GEarth\n",
    "# Weight of people in kg\n",
    "WeightOnEarth = {'John':45, 'Shelly':65, 'Marry':35} \n",
    "# Gravitational force on the Moon: 1.622 m/s2\n",
    "GMoon = 1.622 \n",
    "# Gravitational force on the Earth: 9.81 m/s2\n",
    "GEarth = 9.81 \n",
    "Output: \n",
    "Weight on Moon: {'John': 7.44, 'Shelly': 10.75, 'Marry': 5.79}\n"
   ]
  },
  {
   "cell_type": "code",
   "execution_count": 50,
   "id": "41839907",
   "metadata": {},
   "outputs": [
    {
     "data": {
      "text/plain": [
       "{'John': 7.44, 'Shelly': 10.75, 'Marry': 5.79}"
      ]
     },
     "execution_count": 50,
     "metadata": {},
     "output_type": "execute_result"
    }
   ],
   "source": [
    "WeightOnEarth = {'John':45, 'Shelly':65, 'Marry':35} \n",
    "GMoon = 1.622 \n",
    "GEarth = 9.81\n",
    "dict(map(lambda x : (x, round((WeightOnEarth[x]/GEarth)*GMoon, 2)), WeightOnEarth))"
   ]
  },
  {
   "cell_type": "markdown",
   "id": "4cfba3bd",
   "metadata": {},
   "source": [
    "# 6. Write a program to fetch the words from the given list which have their first character in uppercase.\n",
    "namesList = ['santa Maria', 'Hello World','Merry christmas', 'tHank \n",
    "You']\n",
    "Output: ['Maria', 'Hello', 'World', 'Merry', 'You']"
   ]
  },
  {
   "cell_type": "code",
   "execution_count": 53,
   "id": "cd6ed9ce",
   "metadata": {},
   "outputs": [
    {
     "data": {
      "text/plain": [
       "['Maria', 'Hello', 'World', 'Merry', 'You']"
      ]
     },
     "execution_count": 53,
     "metadata": {},
     "output_type": "execute_result"
    }
   ],
   "source": [
    "namesList = ['santa Maria', 'Hello World','Merry christmas', 'tHank You']\n",
    "a=[]\n",
    "for i in namesList:\n",
    "    for j in i.split():\n",
    "        if(j[0].isupper()):\n",
    "            a.append(j)\n",
    "a"
   ]
  },
  {
   "cell_type": "markdown",
   "id": "6fcae048",
   "metadata": {},
   "source": [
    "# 7. A list containing multiple lists is given. Convert each inner list into sets and find the intersection of all the sets.Use reduce function.\n",
    "given_sets = [[1, 2, 3, 4, 8], [2, 3, 8, 5, 6], [8, 4, 5, 3, 7], [6, 9, 8, 3], [9, \n",
    "12, 3, 7, 6, 8, 4, 6, 21, 1, 6]]\n",
    "Output: {8, 3}\n",
    " "
   ]
  },
  {
   "cell_type": "code",
   "execution_count": 61,
   "id": "77ae614f",
   "metadata": {},
   "outputs": [
    {
     "name": "stdout",
     "output_type": "stream",
     "text": [
      "{8, 3}\n"
     ]
    }
   ],
   "source": [
    "from functools import reduce\n",
    "given_sets = [[1, 2, 3, 4, 8], [2, 3, 8, 5, 6], [8, 4, 5, 3, 7], [6, 9, 8, 3], [9,\n",
    "12, 3, 7, 6, 8, 4, 6, 21, 1, 6]]\n",
    "print(reduce(set.intersection, [set(item) for item in given_sets ]))"
   ]
  },
  {
   "cell_type": "markdown",
   "id": "18d7f3b9",
   "metadata": {},
   "source": [
    "# 8. Find the cumulative average of the list [9,8,7,6,5] using accumulate() and lambda function.\n",
    "Input list: [9, 5, 7, 8, 5]\n"
   ]
  },
  {
   "cell_type": "code",
   "execution_count": 68,
   "id": "205a8b21",
   "metadata": {},
   "outputs": [
    {
     "name": "stdout",
     "output_type": "stream",
     "text": [
      "[9, 7.0, 7.0, 7.25, 6.8]\n"
     ]
    }
   ],
   "source": [
    "a= [9, 5, 7, 8, 5]\n",
    "import itertools as it\n",
    "l=[]\n",
    "l = it.accumulate(list(enumerate(a)), lambda x,y: (y[0], (x[1]*(x[0]+1) + y[1])/(y[0]+1)))\n",
    "print(list(map(lambda x: x[1], l)))"
   ]
  },
  {
   "cell_type": "markdown",
   "id": "eba91320",
   "metadata": {},
   "source": [
    "# 9. A list of words is given. Convert the words into uppercase. Use lambda and map functions.\n",
    "lsbool = ['True','FALse','tRUe','tRue','False','faLse']\n",
    "Output: ['TRUE', 'FALSE', 'TRUE', 'TRUE', 'FALSE', 'FALSE']"
   ]
  },
  {
   "cell_type": "code",
   "execution_count": 65,
   "id": "22edd8cc",
   "metadata": {},
   "outputs": [
    {
     "name": "stdout",
     "output_type": "stream",
     "text": [
      "['TRUE', 'FALSE', 'TRUE', 'TRUE', 'FALSE', 'FALSE']\n"
     ]
    }
   ],
   "source": [
    "lsbool = ['True','FALse','tRUe','tRue','False','faLse']\n",
    "a = map(lambda x:x.upper(),lsbool)\n",
    "print(list(a))"
   ]
  },
  {
   "cell_type": "markdown",
   "id": "8fabcda7",
   "metadata": {},
   "source": [
    "# 10. A list of dates (dd-mm-yyyy) in the form of string is given below. Create a new list that stores years i.e. the 'yyyy' part from the dates in the given list.\n",
    "datesList = ['17-12-1997','22-04-2011','01-05-1993','19-06-2020']\n",
    "Output: ['1997','2011','1993','2020']"
   ]
  },
  {
   "cell_type": "code",
   "execution_count": 71,
   "id": "00c78c95",
   "metadata": {},
   "outputs": [
    {
     "name": "stdout",
     "output_type": "stream",
     "text": [
      "[1997, 2011, 1993, 2020]\n"
     ]
    }
   ],
   "source": [
    "import pandas as pd\n",
    "datesList = ['17-12-1997','22-04-2011','01-05-1993','19-06-2020']\n",
    "a=pd.DatetimeIndex(datesList).year\n",
    "print(list(a))"
   ]
  }
 ],
 "metadata": {
  "kernelspec": {
   "display_name": "Python 3",
   "language": "python",
   "name": "python3"
  },
  "language_info": {
   "codemirror_mode": {
    "name": "ipython",
    "version": 3
   },
   "file_extension": ".py",
   "mimetype": "text/x-python",
   "name": "python",
   "nbconvert_exporter": "python",
   "pygments_lexer": "ipython3",
   "version": "3.8.8"
  }
 },
 "nbformat": 4,
 "nbformat_minor": 5
}
