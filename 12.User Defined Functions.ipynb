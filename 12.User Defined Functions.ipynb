{
 "cells": [
  {
   "cell_type": "markdown",
   "id": "1eff19ff",
   "metadata": {},
   "source": [
    "# function defined by a user"
   ]
  },
  {
   "cell_type": "code",
   "execution_count": 1,
   "id": "7fbc6170",
   "metadata": {},
   "outputs": [
    {
     "name": "stdout",
     "output_type": "stream",
     "text": [
      "Welcome to functions\n"
     ]
    }
   ],
   "source": [
    "def hello():\n",
    "    print(\"Welcome to functions\")\n",
    "hello()"
   ]
  },
  {
   "cell_type": "markdown",
   "id": "dd20d83c",
   "metadata": {},
   "source": [
    "#### functions with input"
   ]
  },
  {
   "cell_type": "code",
   "execution_count": 2,
   "id": "61c5fafc",
   "metadata": {},
   "outputs": [
    {
     "name": "stdout",
     "output_type": "stream",
     "text": [
      "enter you namesan\n"
     ]
    },
    {
     "ename": "TypeError",
     "evalue": "hello() takes 0 positional arguments but 1 was given",
     "output_type": "error",
     "traceback": [
      "\u001b[1;31m---------------------------------------------------------------------------\u001b[0m",
      "\u001b[1;31mTypeError\u001b[0m                                 Traceback (most recent call last)",
      "\u001b[1;32m<ipython-input-2-29e1c74a0767>\u001b[0m in \u001b[0;36m<module>\u001b[1;34m\u001b[0m\n\u001b[0;32m      2\u001b[0m     \u001b[0mprint\u001b[0m\u001b[1;33m(\u001b[0m\u001b[1;34m\"Welcome\"\u001b[0m\u001b[1;33m+\u001b[0m\u001b[0mname\u001b[0m\u001b[1;33m+\u001b[0m\u001b[1;34m\"to functions\"\u001b[0m\u001b[1;33m)\u001b[0m\u001b[1;33m\u001b[0m\u001b[1;33m\u001b[0m\u001b[0m\n\u001b[0;32m      3\u001b[0m \u001b[0mname\u001b[0m\u001b[1;33m=\u001b[0m\u001b[0minput\u001b[0m\u001b[1;33m(\u001b[0m\u001b[1;34m\"enter you name\"\u001b[0m\u001b[1;33m)\u001b[0m\u001b[1;33m\u001b[0m\u001b[1;33m\u001b[0m\u001b[0m\n\u001b[1;32m----> 4\u001b[1;33m \u001b[0mhello\u001b[0m\u001b[1;33m(\u001b[0m\u001b[0mname\u001b[0m\u001b[1;33m)\u001b[0m\u001b[1;33m\u001b[0m\u001b[1;33m\u001b[0m\u001b[0m\n\u001b[0m",
      "\u001b[1;31mTypeError\u001b[0m: hello() takes 0 positional arguments but 1 was given"
     ]
    }
   ],
   "source": [
    "def hello():\n",
    "    print(\"Welcome\"+name+\"to functions\")\n",
    "name=input(\"enter you name\")\n",
    "hello(name)"
   ]
  },
  {
   "cell_type": "code",
   "execution_count": 4,
   "id": "cbaf5c89",
   "metadata": {},
   "outputs": [
    {
     "name": "stdout",
     "output_type": "stream",
     "text": [
      "enter you namesan\n",
      "Welcome san to functions\n"
     ]
    }
   ],
   "source": [
    "def hello(name):\n",
    "    print(\"Welcome\",name,\"to functions\")\n",
    "name=input(\"enter you name\")\n",
    "hello(name)"
   ]
  },
  {
   "cell_type": "markdown",
   "id": "c2798ffb",
   "metadata": {},
   "source": [
    "#### using return"
   ]
  },
  {
   "cell_type": "code",
   "execution_count": 5,
   "id": "3bc822c6",
   "metadata": {},
   "outputs": [
    {
     "name": "stdout",
     "output_type": "stream",
     "text": [
      "15\n"
     ]
    }
   ],
   "source": [
    "def add(a,b):\n",
    "    sum=a+b\n",
    "    return(sum)\n",
    "a=10\n",
    "b=5\n",
    "print(add(a,b))"
   ]
  },
  {
   "cell_type": "markdown",
   "id": "35d7777a",
   "metadata": {},
   "source": [
    "#### using arguments"
   ]
  },
  {
   "cell_type": "code",
   "execution_count": 7,
   "id": "fc59df74",
   "metadata": {},
   "outputs": [
    {
     "name": "stdout",
     "output_type": "stream",
     "text": [
      "joe GM\n",
      "joe GM\n"
     ]
    }
   ],
   "source": [
    "def employee(name,designation):\n",
    "    print(name,designation)\n",
    "employee(name=\"joe\",designation=\"GM\")\n",
    "employee(designation=\"GM\",name=\"joe\")   "
   ]
  },
  {
   "cell_type": "code",
   "execution_count": 8,
   "id": "908e397b",
   "metadata": {},
   "outputs": [],
   "source": [
    "#default argument"
   ]
  },
  {
   "cell_type": "code",
   "execution_count": 10,
   "id": "47506fde",
   "metadata": {},
   "outputs": [
    {
     "name": "stdout",
     "output_type": "stream",
     "text": [
      "emp name: john\n",
      "emp salary 10000\n",
      "emp name: sam\n",
      "emp salary 10000\n"
     ]
    }
   ],
   "source": [
    "def emp(name,sal=10000):\n",
    "    print(\"emp name:\",name)\n",
    "    print(\"emp salary\",sal)\n",
    "emp(\"john\")\n",
    "emp(\"sam\")"
   ]
  },
  {
   "cell_type": "code",
   "execution_count": 11,
   "id": "3a2db109",
   "metadata": {},
   "outputs": [],
   "source": [
    "#variable length arguments "
   ]
  },
  {
   "cell_type": "code",
   "execution_count": 12,
   "id": "bb48cb73",
   "metadata": {},
   "outputs": [
    {
     "name": "stdout",
     "output_type": "stream",
     "text": [
      "6\n",
      "28\n"
     ]
    }
   ],
   "source": [
    "def add(*num):\n",
    "    add=0\n",
    "    for i in num:\n",
    "        add+=i\n",
    "    print(add)\n",
    "add(1,2,3)\n",
    "add(1,2,3,4,5,6,7)"
   ]
  }
 ],
 "metadata": {
  "kernelspec": {
   "display_name": "Python 3",
   "language": "python",
   "name": "python3"
  },
  "language_info": {
   "codemirror_mode": {
    "name": "ipython",
    "version": 3
   },
   "file_extension": ".py",
   "mimetype": "text/x-python",
   "name": "python",
   "nbconvert_exporter": "python",
   "pygments_lexer": "ipython3",
   "version": "3.8.8"
  }
 },
 "nbformat": 4,
 "nbformat_minor": 5
}
