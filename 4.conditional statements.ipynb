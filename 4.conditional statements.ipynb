{
 "cells": [
  {
   "cell_type": "markdown",
   "id": "afb5e9b9",
   "metadata": {},
   "source": [
    "# If , Else , Elif\n"
   ]
  },
  {
   "cell_type": "code",
   "execution_count": 6,
   "id": "95dc1662",
   "metadata": {},
   "outputs": [
    {
     "name": "stdout",
     "output_type": "stream",
     "text": [
      "Enter num:0\n",
      "no is zero\n"
     ]
    }
   ],
   "source": [
    "num=int(input(\"Enter num:\"))\n",
    "if(num>0):\n",
    "    print(\"the no is positive \")\n",
    "elif num==0:\n",
    "    print(\"no is zero\")\n",
    "else:\n",
    "    print(\"no is negative\")"
   ]
  },
  {
   "cell_type": "code",
   "execution_count": 9,
   "id": "f7119845",
   "metadata": {},
   "outputs": [
    {
     "name": "stdout",
     "output_type": "stream",
     "text": [
      "enter a value:10\n",
      "enter b value:5\n",
      "enter c value:4\n",
      "a is greatest\n"
     ]
    }
   ],
   "source": [
    "a=int(input(\"enter a value:\"))\n",
    "b=int(input(\"enter b value:\"))\n",
    "c=int(input(\"enter c value:\"))\n",
    "if(a>b):\n",
    "    if(a>c):\n",
    "        print(\"a is greatest\")\n",
    "    else:\n",
    "        print(\"C is greatest\")\n",
    "elif(b>c):\n",
    "    print(\"b is greatest\")\n",
    "else:\n",
    "    print(\"c is greatest\")\n",
    "    \n",
    "\n"
   ]
  },
  {
   "cell_type": "code",
   "execution_count": null,
   "id": "14a83973",
   "metadata": {},
   "outputs": [],
   "source": []
  }
 ],
 "metadata": {
  "kernelspec": {
   "display_name": "Python 3",
   "language": "python",
   "name": "python3"
  },
  "language_info": {
   "codemirror_mode": {
    "name": "ipython",
    "version": 3
   },
   "file_extension": ".py",
   "mimetype": "text/x-python",
   "name": "python",
   "nbconvert_exporter": "python",
   "pygments_lexer": "ipython3",
   "version": "3.8.8"
  }
 },
 "nbformat": 4,
 "nbformat_minor": 5
}
