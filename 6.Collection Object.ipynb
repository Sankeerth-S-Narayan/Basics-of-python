{
 "cells": [
  {
   "cell_type": "code",
   "execution_count": 1,
   "id": "2a5466ca",
   "metadata": {},
   "outputs": [
    {
     "data": {
      "text/plain": [
       "'l'"
      ]
     },
     "execution_count": 1,
     "metadata": {},
     "output_type": "execute_result"
    }
   ],
   "source": [
    "text=\"Hello my name is asdfghj\"\n",
    "text[2]"
   ]
  },
  {
   "cell_type": "code",
   "execution_count": 3,
   "id": "5c20ab3d",
   "metadata": {},
   "outputs": [
    {
     "data": {
      "text/plain": [
       "'emg'"
      ]
     },
     "execution_count": 3,
     "metadata": {},
     "output_type": "execute_result"
    }
   ],
   "source": [
    "text[1::10]"
   ]
  },
  {
   "cell_type": "code",
   "execution_count": 4,
   "id": "7e822a72",
   "metadata": {},
   "outputs": [
    {
     "data": {
      "text/plain": [
       "24"
      ]
     },
     "execution_count": 4,
     "metadata": {},
     "output_type": "execute_result"
    }
   ],
   "source": [
    "len(text)"
   ]
  },
  {
   "cell_type": "code",
   "execution_count": 5,
   "id": "c13b7726",
   "metadata": {},
   "outputs": [
    {
     "data": {
      "text/plain": [
       "' is asdfghj'"
      ]
     },
     "execution_count": 5,
     "metadata": {},
     "output_type": "execute_result"
    }
   ],
   "source": [
    "text[13:]"
   ]
  },
  {
   "cell_type": "code",
   "execution_count": 6,
   "id": "247435b1",
   "metadata": {},
   "outputs": [
    {
     "data": {
      "text/plain": [
       "'Hello my name'"
      ]
     },
     "execution_count": 6,
     "metadata": {},
     "output_type": "execute_result"
    }
   ],
   "source": [
    "text[:13:1]"
   ]
  },
  {
   "cell_type": "code",
   "execution_count": 18,
   "id": "81f8bd1d",
   "metadata": {},
   "outputs": [
    {
     "data": {
      "text/plain": [
       "'Hlom ae'"
      ]
     },
     "execution_count": 18,
     "metadata": {},
     "output_type": "execute_result"
    }
   ],
   "source": [
    "text[:13:2]"
   ]
  },
  {
   "cell_type": "code",
   "execution_count": 8,
   "id": "cb203bf3",
   "metadata": {},
   "outputs": [
    {
     "data": {
      "text/plain": [
       "'Hlom aei sfh'"
      ]
     },
     "execution_count": 8,
     "metadata": {},
     "output_type": "execute_result"
    }
   ],
   "source": [
    "text[::2]"
   ]
  },
  {
   "cell_type": "code",
   "execution_count": 9,
   "id": "fceee756",
   "metadata": {},
   "outputs": [
    {
     "data": {
      "text/plain": [
       "'Hello my name is asdfgh'"
      ]
     },
     "execution_count": 9,
     "metadata": {},
     "output_type": "execute_result"
    }
   ],
   "source": [
    "text[:-1]"
   ]
  },
  {
   "cell_type": "code",
   "execution_count": 10,
   "id": "99e58f5d",
   "metadata": {},
   "outputs": [
    {
     "data": {
      "text/plain": [
       "'ello my name is asdfgh'"
      ]
     },
     "execution_count": 10,
     "metadata": {},
     "output_type": "execute_result"
    }
   ],
   "source": [
    "text[1:-1]"
   ]
  },
  {
   "cell_type": "code",
   "execution_count": 11,
   "id": "7370d972",
   "metadata": {},
   "outputs": [
    {
     "data": {
      "text/plain": [
       "'j'"
      ]
     },
     "execution_count": 11,
     "metadata": {},
     "output_type": "execute_result"
    }
   ],
   "source": [
    "text[-1]"
   ]
  },
  {
   "cell_type": "code",
   "execution_count": 12,
   "id": "d775e88c",
   "metadata": {},
   "outputs": [
    {
     "data": {
      "text/plain": [
       "'jhgfdsa si eman ym olleH'"
      ]
     },
     "execution_count": 12,
     "metadata": {},
     "output_type": "execute_result"
    }
   ],
   "source": [
    "text[::-1]"
   ]
  },
  {
   "cell_type": "code",
   "execution_count": 13,
   "id": "22dbd61d",
   "metadata": {},
   "outputs": [
    {
     "data": {
      "text/plain": [
       "'d'"
      ]
     },
     "execution_count": 13,
     "metadata": {},
     "output_type": "execute_result"
    }
   ],
   "source": [
    "text[::-1][4]"
   ]
  },
  {
   "cell_type": "code",
   "execution_count": 14,
   "id": "ca151d83",
   "metadata": {},
   "outputs": [
    {
     "data": {
      "text/plain": [
       "'j'"
      ]
     },
     "execution_count": 14,
     "metadata": {},
     "output_type": "execute_result"
    }
   ],
   "source": [
    "text[-1::1]"
   ]
  },
  {
   "cell_type": "code",
   "execution_count": 19,
   "id": "bab2b0b9",
   "metadata": {},
   "outputs": [
    {
     "data": {
      "text/plain": [
       "'dsa si eman ym olleH'"
      ]
     },
     "execution_count": 19,
     "metadata": {},
     "output_type": "execute_result"
    }
   ],
   "source": [
    "text[::-1][4:]"
   ]
  },
  {
   "cell_type": "code",
   "execution_count": 20,
   "id": "1ca0d640",
   "metadata": {},
   "outputs": [
    {
     "data": {
      "text/plain": [
       "'Hello my name is asdfghj'"
      ]
     },
     "execution_count": 20,
     "metadata": {},
     "output_type": "execute_result"
    }
   ],
   "source": [
    "text[::-1][::-1]"
   ]
  },
  {
   "cell_type": "markdown",
   "id": "20027e11",
   "metadata": {},
   "source": [
    "# string handling"
   ]
  },
  {
   "cell_type": "code",
   "execution_count": 32,
   "id": "8fd01a18",
   "metadata": {},
   "outputs": [],
   "source": [
    "text=\"    Data Science\""
   ]
  },
  {
   "cell_type": "code",
   "execution_count": 22,
   "id": "2e33bf1c",
   "metadata": {},
   "outputs": [
    {
     "data": {
      "text/plain": [
       "'DATA SCIENCE'"
      ]
     },
     "execution_count": 22,
     "metadata": {},
     "output_type": "execute_result"
    }
   ],
   "source": [
    "text.upper()"
   ]
  },
  {
   "cell_type": "code",
   "execution_count": 23,
   "id": "9782f469",
   "metadata": {},
   "outputs": [
    {
     "data": {
      "text/plain": [
       "'data science'"
      ]
     },
     "execution_count": 23,
     "metadata": {},
     "output_type": "execute_result"
    }
   ],
   "source": [
    "text.lower()"
   ]
  },
  {
   "cell_type": "code",
   "execution_count": 26,
   "id": "12e3bef8",
   "metadata": {},
   "outputs": [
    {
     "data": {
      "text/plain": [
       "'Data Python'"
      ]
     },
     "execution_count": 26,
     "metadata": {},
     "output_type": "execute_result"
    }
   ],
   "source": [
    "text.replace(\"Science\",\"Python\")"
   ]
  },
  {
   "cell_type": "code",
   "execution_count": 27,
   "id": "8e091929",
   "metadata": {},
   "outputs": [
    {
     "data": {
      "text/plain": [
       "'dATA sCIENCE'"
      ]
     },
     "execution_count": 27,
     "metadata": {},
     "output_type": "execute_result"
    }
   ],
   "source": [
    "text.swapcase()"
   ]
  },
  {
   "cell_type": "code",
   "execution_count": 34,
   "id": "b5795bd4",
   "metadata": {},
   "outputs": [
    {
     "data": {
      "text/plain": [
       "'Data Science'"
      ]
     },
     "execution_count": 34,
     "metadata": {},
     "output_type": "execute_result"
    }
   ],
   "source": [
    "text.strip(\" \")"
   ]
  },
  {
   "cell_type": "code",
   "execution_count": 33,
   "id": "582bc796",
   "metadata": {},
   "outputs": [
    {
     "data": {
      "text/plain": [
       "'    Data Science'"
      ]
     },
     "execution_count": 33,
     "metadata": {},
     "output_type": "execute_result"
    }
   ],
   "source": [
    "text"
   ]
  },
  {
   "cell_type": "code",
   "execution_count": 35,
   "id": "bb594082",
   "metadata": {},
   "outputs": [
    {
     "data": {
      "text/plain": [
       "'Data Science'"
      ]
     },
     "execution_count": 35,
     "metadata": {},
     "output_type": "execute_result"
    }
   ],
   "source": [
    "text=\"***Data Science*****\"\n",
    "text.strip('*')"
   ]
  },
  {
   "cell_type": "code",
   "execution_count": 40,
   "id": "e95403e6",
   "metadata": {},
   "outputs": [
    {
     "name": "stdout",
     "output_type": "stream",
     "text": [
      "Data         Science\n"
     ]
    }
   ],
   "source": [
    "text=\"***Data#########Science*****\"\n",
    "text=text.strip('*')\n",
    "text=text.replace(\"#\",\" \")\n",
    "print(text)"
   ]
  },
  {
   "cell_type": "code",
   "execution_count": 37,
   "id": "7afe891d",
   "metadata": {},
   "outputs": [
    {
     "data": {
      "text/plain": [
       "'Data#########Science'"
      ]
     },
     "execution_count": 37,
     "metadata": {},
     "output_type": "execute_result"
    }
   ],
   "source": [
    "text=\"***Data#########Science*****\"\n",
    "text.strip('*')"
   ]
  },
  {
   "cell_type": "code",
   "execution_count": null,
   "id": "5ae964ed",
   "metadata": {},
   "outputs": [],
   "source": []
  }
 ],
 "metadata": {
  "kernelspec": {
   "display_name": "Python 3",
   "language": "python",
   "name": "python3"
  },
  "language_info": {
   "codemirror_mode": {
    "name": "ipython",
    "version": 3
   },
   "file_extension": ".py",
   "mimetype": "text/x-python",
   "name": "python",
   "nbconvert_exporter": "python",
   "pygments_lexer": "ipython3",
   "version": "3.8.8"
  }
 },
 "nbformat": 4,
 "nbformat_minor": 5
}
