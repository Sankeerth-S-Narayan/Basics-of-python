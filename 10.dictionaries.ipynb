{
 "cells": [
  {
   "cell_type": "code",
   "execution_count": 1,
   "id": "6df5c406",
   "metadata": {},
   "outputs": [],
   "source": [
    "fruits={\"apple\":20,\"orange\":25,\"lemon\":30,\"grapes\":10,\"mangoes\":15}"
   ]
  },
  {
   "cell_type": "code",
   "execution_count": 2,
   "id": "7bd51f2a",
   "metadata": {},
   "outputs": [
    {
     "name": "stdout",
     "output_type": "stream",
     "text": [
      "{'apple': 20, 'orange': 25, 'lemon': 30, 'grapes': 10, 'mangoes': 15}\n"
     ]
    }
   ],
   "source": [
    "print(fruits)"
   ]
  },
  {
   "cell_type": "code",
   "execution_count": 3,
   "id": "2b1db7d6",
   "metadata": {},
   "outputs": [
    {
     "ename": "TypeError",
     "evalue": "unhashable type: 'slice'",
     "output_type": "error",
     "traceback": [
      "\u001b[1;31m---------------------------------------------------------------------------\u001b[0m",
      "\u001b[1;31mTypeError\u001b[0m                                 Traceback (most recent call last)",
      "\u001b[1;32m<ipython-input-3-40e801454b43>\u001b[0m in \u001b[0;36m<module>\u001b[1;34m\u001b[0m\n\u001b[1;32m----> 1\u001b[1;33m \u001b[0mfruits\u001b[0m\u001b[1;33m[\u001b[0m\u001b[1;34m\"jackfruit\"\u001b[0m\u001b[1;33m:\u001b[0m\u001b[1;36m5\u001b[0m\u001b[1;33m]\u001b[0m\u001b[1;33m\u001b[0m\u001b[1;33m\u001b[0m\u001b[0m\n\u001b[0m\u001b[0;32m      2\u001b[0m \u001b[0mprint\u001b[0m\u001b[1;33m(\u001b[0m\u001b[0mfruits\u001b[0m\u001b[1;33m)\u001b[0m\u001b[1;33m\u001b[0m\u001b[1;33m\u001b[0m\u001b[0m\n",
      "\u001b[1;31mTypeError\u001b[0m: unhashable type: 'slice'"
     ]
    }
   ],
   "source": [
    "fruits[\"jackfruit\":5]\n",
    "print(fruits)"
   ]
  },
  {
   "cell_type": "code",
   "execution_count": 4,
   "id": "b980481d",
   "metadata": {},
   "outputs": [
    {
     "name": "stdout",
     "output_type": "stream",
     "text": [
      "{'apple': 20, 'orange': 25, 'lemon': 30, 'grapes': 10, 'mangoes': 15, 'jackfruit': 5}\n"
     ]
    }
   ],
   "source": [
    "fruits[\"jackfruit\"]=5\n",
    "print(fruits)"
   ]
  },
  {
   "cell_type": "code",
   "execution_count": 5,
   "id": "3dfcf500",
   "metadata": {},
   "outputs": [
    {
     "name": "stdout",
     "output_type": "stream",
     "text": [
      "{'apple': 20, 'orange': 25, 'lemon': 30, 'grapes': 10, 'mangoes': 15}\n"
     ]
    }
   ],
   "source": [
    "del fruits[\"jackfruit\"]\n",
    "print(fruits)"
   ]
  },
  {
   "cell_type": "code",
   "execution_count": 6,
   "id": "b28afa65",
   "metadata": {},
   "outputs": [],
   "source": [
    "sentence=\"you can yoy can do do it it \"\n",
    "word_count={}\n",
    "for word in sentence.split():\n",
    "    if word not in word_count:\n",
    "        word_count[word]=1\n",
    "    else:\n",
    "        word_count[word]+=1"
   ]
  },
  {
   "cell_type": "code",
   "execution_count": 7,
   "id": "7fc32512",
   "metadata": {},
   "outputs": [
    {
     "name": "stdout",
     "output_type": "stream",
     "text": [
      "{'you': 1, 'can': 2, 'yoy': 1, 'do': 2, 'it': 2}\n"
     ]
    }
   ],
   "source": [
    "print(word_count)"
   ]
  },
  {
   "cell_type": "code",
   "execution_count": 8,
   "id": "5e21cc89",
   "metadata": {},
   "outputs": [
    {
     "name": "stdout",
     "output_type": "stream",
     "text": [
      "dict_keys(['apple', 'orange', 'lemon', 'grapes', 'mangoes'])\n"
     ]
    }
   ],
   "source": [
    "print(fruits.keys())"
   ]
  },
  {
   "cell_type": "code",
   "execution_count": 9,
   "id": "ff67de3f",
   "metadata": {},
   "outputs": [
    {
     "name": "stdout",
     "output_type": "stream",
     "text": [
      "dict_values([20, 25, 30, 10, 15])\n"
     ]
    }
   ],
   "source": [
    "print(fruits.values())"
   ]
  },
  {
   "cell_type": "code",
   "execution_count": 12,
   "id": "779adcde",
   "metadata": {},
   "outputs": [
    {
     "name": "stdout",
     "output_type": "stream",
     "text": [
      "defaultdict(<class 'int'>, {'you': 1, 'can': 2, 'yoy': 1, 'do': 2, 'it': 2})\n"
     ]
    }
   ],
   "source": [
    "from collections import defaultdict\n",
    "twister=\"you can yoy can do do it it \"\n",
    "word_count= defaultdict(int)\n",
    "for word in twister.split():\n",
    "    word_count[word]+=1\n",
    "print(word_count)"
   ]
  },
  {
   "cell_type": "code",
   "execution_count": 13,
   "id": "29812104",
   "metadata": {},
   "outputs": [
    {
     "name": "stdout",
     "output_type": "stream",
     "text": [
      "you 1\n",
      "can 2\n",
      "yoy 1\n",
      "do 2\n",
      "it 2\n"
     ]
    }
   ],
   "source": [
    "from collections import defaultdict\n",
    "twister=\"you can yoy can do do it it \"\n",
    "word_count= defaultdict(int)\n",
    "for word in twister.split():\n",
    "    word_count[word]+=1\n",
    "for key,value in word_count.items():\n",
    "    print(key,value)"
   ]
  },
  {
   "cell_type": "code",
   "execution_count": 14,
   "id": "96b7ef4d",
   "metadata": {},
   "outputs": [
    {
     "data": {
      "text/plain": [
       "5"
      ]
     },
     "execution_count": 14,
     "metadata": {},
     "output_type": "execute_result"
    }
   ],
   "source": [
    "len(fruits)"
   ]
  },
  {
   "cell_type": "code",
   "execution_count": 15,
   "id": "40b09070",
   "metadata": {},
   "outputs": [
    {
     "data": {
      "text/plain": [
       "dict"
      ]
     },
     "execution_count": 15,
     "metadata": {},
     "output_type": "execute_result"
    }
   ],
   "source": [
    "type(fruits)"
   ]
  },
  {
   "cell_type": "code",
   "execution_count": 16,
   "id": "572bc6f5",
   "metadata": {},
   "outputs": [
    {
     "data": {
      "text/plain": [
       "dict_items([('apple', 20), ('orange', 25), ('lemon', 30), ('grapes', 10), ('mangoes', 15)])"
      ]
     },
     "execution_count": 16,
     "metadata": {},
     "output_type": "execute_result"
    }
   ],
   "source": [
    "fruits.items()\n"
   ]
  }
 ],
 "metadata": {
  "kernelspec": {
   "display_name": "Python 3",
   "language": "python",
   "name": "python3"
  },
  "language_info": {
   "codemirror_mode": {
    "name": "ipython",
    "version": 3
   },
   "file_extension": ".py",
   "mimetype": "text/x-python",
   "name": "python",
   "nbconvert_exporter": "python",
   "pygments_lexer": "ipython3",
   "version": "3.8.8"
  }
 },
 "nbformat": 4,
 "nbformat_minor": 5
}
