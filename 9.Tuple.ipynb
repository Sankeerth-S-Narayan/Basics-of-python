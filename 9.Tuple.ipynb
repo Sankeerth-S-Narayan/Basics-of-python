{
 "cells": [
  {
   "cell_type": "markdown",
   "id": "cf831e31",
   "metadata": {},
   "source": [
    "# tuple does not have a sort function"
   ]
  },
  {
   "cell_type": "code",
   "execution_count": 1,
   "id": "8e7b5e2a",
   "metadata": {},
   "outputs": [
    {
     "data": {
      "text/plain": [
       "tuple"
      ]
     },
     "execution_count": 1,
     "metadata": {},
     "output_type": "execute_result"
    }
   ],
   "source": [
    "l=(\"apple\",\"orange\",\"lemon\",\"grapes\")\n",
    "type(l)"
   ]
  },
  {
   "cell_type": "code",
   "execution_count": 2,
   "id": "390e01bb",
   "metadata": {},
   "outputs": [
    {
     "data": {
      "text/plain": [
       "tuple"
      ]
     },
     "execution_count": 2,
     "metadata": {},
     "output_type": "execute_result"
    }
   ],
   "source": [
    "lss=\"apple\",\"orange\",\"lemon\",\"grapes\"\n",
    "type(lss)\n"
   ]
  },
  {
   "cell_type": "code",
   "execution_count": 3,
   "id": "e507d809",
   "metadata": {},
   "outputs": [
    {
     "data": {
      "text/plain": [
       "[12, 12, 22, 56, 56, 68, 94]"
      ]
     },
     "execution_count": 3,
     "metadata": {},
     "output_type": "execute_result"
    }
   ],
   "source": [
    "prices=(12,56,68,22,94,12,56)\n",
    "sorted(prices)"
   ]
  },
  {
   "cell_type": "markdown",
   "id": "8103fb7f",
   "metadata": {},
   "source": [
    "# descending"
   ]
  },
  {
   "cell_type": "code",
   "execution_count": 5,
   "id": "d1023943",
   "metadata": {},
   "outputs": [
    {
     "data": {
      "text/plain": [
       "[94, 68, 56, 56, 22, 12, 12]"
      ]
     },
     "execution_count": 5,
     "metadata": {},
     "output_type": "execute_result"
    }
   ],
   "source": [
    "sorted(prices,reverse =True)"
   ]
  },
  {
   "cell_type": "markdown",
   "id": "f4d2d755",
   "metadata": {},
   "source": [
    "# the sorted tuple is a list even though it has been passed as a tuple\n"
   ]
  },
  {
   "cell_type": "code",
   "execution_count": 6,
   "id": "bf4b9d9f",
   "metadata": {},
   "outputs": [
    {
     "name": "stdout",
     "output_type": "stream",
     "text": [
      "('apple', 'orange', 'lemon', 'grapes', 'apple', 'orange', 'lemon', 'grapes')\n"
     ]
    }
   ],
   "source": [
    "repeattuple=l*2\n",
    "print(repeattuple)"
   ]
  },
  {
   "cell_type": "code",
   "execution_count": 7,
   "id": "16d9a1c1",
   "metadata": {},
   "outputs": [
    {
     "name": "stdout",
     "output_type": "stream",
     "text": [
      "('apple', 'orange', 'lemon', 'grapes', 'apple', 'orange', 'lemon', 'grapes', 'apple', 'orange', 'lemon', 'grapes')\n"
     ]
    }
   ],
   "source": [
    "addtuple=repeattuple+l\n",
    "print(addtuple)"
   ]
  },
  {
   "cell_type": "code",
   "execution_count": 8,
   "id": "c248b1ca",
   "metadata": {},
   "outputs": [
    {
     "data": {
      "text/plain": [
       "94"
      ]
     },
     "execution_count": 8,
     "metadata": {},
     "output_type": "execute_result"
    }
   ],
   "source": [
    "max(prices)"
   ]
  },
  {
   "cell_type": "code",
   "execution_count": 9,
   "id": "f0d28c95",
   "metadata": {},
   "outputs": [
    {
     "data": {
      "text/plain": [
       "12"
      ]
     },
     "execution_count": 9,
     "metadata": {},
     "output_type": "execute_result"
    }
   ],
   "source": [
    "min(prices)"
   ]
  },
  {
   "cell_type": "code",
   "execution_count": 10,
   "id": "dd04b146",
   "metadata": {},
   "outputs": [],
   "source": [
    "price=(10,4,325,657,224,[1,2,3])\n",
    "price[5].append(12)"
   ]
  },
  {
   "cell_type": "code",
   "execution_count": 11,
   "id": "d7289557",
   "metadata": {},
   "outputs": [
    {
     "data": {
      "text/plain": [
       "(10, 4, 325, 657, 224, [1, 2, 3, 12])"
      ]
     },
     "execution_count": 11,
     "metadata": {},
     "output_type": "execute_result"
    }
   ],
   "source": [
    "price"
   ]
  },
  {
   "cell_type": "code",
   "execution_count": 12,
   "id": "31a7283e",
   "metadata": {},
   "outputs": [
    {
     "data": {
      "text/plain": [
       "(325, 657)"
      ]
     },
     "execution_count": 12,
     "metadata": {},
     "output_type": "execute_result"
    }
   ],
   "source": [
    "price[2:4]"
   ]
  }
 ],
 "metadata": {
  "kernelspec": {
   "display_name": "Python 3",
   "language": "python",
   "name": "python3"
  },
  "language_info": {
   "codemirror_mode": {
    "name": "ipython",
    "version": 3
   },
   "file_extension": ".py",
   "mimetype": "text/x-python",
   "name": "python",
   "nbconvert_exporter": "python",
   "pygments_lexer": "ipython3",
   "version": "3.8.8"
  }
 },
 "nbformat": 4,
 "nbformat_minor": 5
}
