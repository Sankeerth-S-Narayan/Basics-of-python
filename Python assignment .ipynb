{
 "cells": [
  {
   "cell_type": "markdown",
   "id": "3ba8c00e",
   "metadata": {},
   "source": [
    "### Q1 Write a program using list comprehension to find primes in range 2 to 100."
   ]
  },
  {
   "cell_type": "code",
   "execution_count": 1,
   "id": "ad6addcc",
   "metadata": {},
   "outputs": [
    {
     "name": "stdout",
     "output_type": "stream",
     "text": [
      "[2, 3, 4, 5, 7, 11, 13, 17, 19, 23, 29, 31, 37, 41, 43, 47, 53, 59, 61, 67, 71, 73, 79, 83, 89, 97]\n"
     ]
    }
   ],
   "source": [
    "prime= []\n",
    "for num in range(2,100):\n",
    "    for i in range(2, num//2):\n",
    "        if num%i == 0:\n",
    "            break\n",
    "    else:\n",
    "        prime.append(num)\n",
    "print(prime)"
   ]
  },
  {
   "cell_type": "code",
   "execution_count": 2,
   "id": "bde0fc14",
   "metadata": {},
   "outputs": [
    {
     "data": {
      "text/plain": [
       "[2,\n",
       " 3,\n",
       " 4,\n",
       " 5,\n",
       " 7,\n",
       " 11,\n",
       " 13,\n",
       " 17,\n",
       " 19,\n",
       " 23,\n",
       " 29,\n",
       " 31,\n",
       " 37,\n",
       " 41,\n",
       " 43,\n",
       " 47,\n",
       " 53,\n",
       " 59,\n",
       " 61,\n",
       " 67,\n",
       " 71,\n",
       " 73,\n",
       " 79,\n",
       " 83,\n",
       " 89,\n",
       " 97]"
      ]
     },
     "execution_count": 2,
     "metadata": {},
     "output_type": "execute_result"
    }
   ],
   "source": [
    "pr = [x for x in range(2,101) if all((x%i) != 0 for i in range(2,x//2))]\n",
    "pr"
   ]
  },
  {
   "cell_type": "markdown",
   "id": "b3880e3a",
   "metadata": {},
   "source": [
    "### Q2 Write a function to reverse a string"
   ]
  },
  {
   "cell_type": "code",
   "execution_count": 3,
   "id": "45fc551d",
   "metadata": {},
   "outputs": [
    {
     "name": "stdout",
     "output_type": "stream",
     "text": [
      "taknev\n"
     ]
    }
   ],
   "source": [
    "def reverse(s):\n",
    "    temp = \"\"\n",
    "    for i in range(1,len(s)+1):\n",
    "        temp+= s[len(s)-i]\n",
    "    return temp\n",
    "\n",
    "print(reverse('venkat'))"
   ]
  },
  {
   "cell_type": "markdown",
   "id": "6a201918",
   "metadata": {},
   "source": [
    "### Q3 Write a program to extract the words from the given list which have their first character in uppercase"
   ]
  },
  {
   "cell_type": "markdown",
   "id": "a78c9351",
   "metadata": {},
   "source": [
    "#### using loops"
   ]
  },
  {
   "cell_type": "code",
   "execution_count": 4,
   "id": "acdac5c6",
   "metadata": {},
   "outputs": [
    {
     "name": "stdout",
     "output_type": "stream",
     "text": [
      "['Monday', 'Sunday', 'Saturday']\n"
     ]
    }
   ],
   "source": [
    "days = ['Monday', 'tuesday','friday', 'Sunday', 'Saturday']\n",
    "new_days = []\n",
    "for word in days:\n",
    "    if word.istitle():\n",
    "        new_days.append(word)\n",
    "        \n",
    "print(new_days)"
   ]
  },
  {
   "cell_type": "markdown",
   "id": "bc9bda92",
   "metadata": {},
   "source": [
    "#### using list comprehension"
   ]
  },
  {
   "cell_type": "code",
   "execution_count": 5,
   "id": "2a727fd5",
   "metadata": {},
   "outputs": [
    {
     "name": "stdout",
     "output_type": "stream",
     "text": [
      "['Monday', 'Sunday', 'Saturday']\n"
     ]
    }
   ],
   "source": [
    "days = ['Monday', 'tuesday','friday', 'Sunday', 'Saturday']\n",
    "print([x for x in days if x[0].istitle()])"
   ]
  },
  {
   "cell_type": "markdown",
   "id": "9f66320a",
   "metadata": {},
   "source": [
    "### Q4 Write a program to extract the year part from the dates in the given list."
   ]
  },
  {
   "cell_type": "code",
   "execution_count": 6,
   "id": "698cdcf8",
   "metadata": {},
   "outputs": [
    {
     "name": "stdout",
     "output_type": "stream",
     "text": [
      "['1997', '2011', '1993', '2020']\n"
     ]
    }
   ],
   "source": [
    "batch = ['15-06-1997','15-06-2011','15-06-1993','15-06-2020']\n",
    "year = []\n",
    "for dates in batch:\n",
    "    year.append(dates[-4:])\n",
    "print(year)"
   ]
  },
  {
   "cell_type": "code",
   "execution_count": 7,
   "id": "e8ee0acb",
   "metadata": {},
   "outputs": [
    {
     "name": "stdout",
     "output_type": "stream",
     "text": [
      "['1997', '2011', '1993', '2020']\n"
     ]
    }
   ],
   "source": [
    "print([date[-4:] for date in batch])"
   ]
  },
  {
   "cell_type": "markdown",
   "id": "79861329",
   "metadata": {},
   "source": [
    "### Q5 Write a program swap the keys to values and values to keys of the given dictionary.\n"
   ]
  },
  {
   "cell_type": "code",
   "execution_count": 8,
   "id": "92b1d374",
   "metadata": {},
   "outputs": [
    {
     "name": "stdout",
     "output_type": "stream",
     "text": [
      "{1: 'Data Science', 2: 'Machine Learning', 3: 'SQL', 4: 'BigData'}\n"
     ]
    }
   ],
   "source": [
    "module = {'Data Science':1,'Machine Learning':2, 'SQL':3, 'BigData':4}\n",
    "new_module = {}\n",
    "for k,v in module.items():\n",
    "    new_module[v] = k\n",
    "print(new_module)\n",
    "          "
   ]
  },
  {
   "cell_type": "code",
   "execution_count": 9,
   "id": "52e9f66e",
   "metadata": {},
   "outputs": [
    {
     "name": "stdout",
     "output_type": "stream",
     "text": [
      "{1: 'Data Science', 2: 'Machine Learning', 3: 'SQL', 4: 'BigData'}\n"
     ]
    }
   ],
   "source": [
    "module = {'Data Science':1,'Machine Learning':2, 'SQL':3, 'BigData':4}\n",
    "new_dict = dict([(value, key) for (key, value) in module.items()])\n",
    "print(new_dict)"
   ]
  },
  {
   "cell_type": "markdown",
   "id": "a7bbaced",
   "metadata": {},
   "source": [
    "### Q6 Write a program to calculate the cumulative average of the given list using accumulate() and lambda function."
   ]
  },
  {
   "cell_type": "code",
   "execution_count": 10,
   "id": "db66ca5c",
   "metadata": {},
   "outputs": [
    {
     "name": "stdout",
     "output_type": "stream",
     "text": [
      "[5, 3.5, 2.25, 3.125, 4.5625]\n"
     ]
    }
   ],
   "source": [
    "from itertools import accumulate as acc\n",
    "avg = lambda a,b: (a+b)/2\n",
    "ip_lst = [5,2,1,4,6]\n",
    "\n",
    "res = acc(ip_lst, avg)\n",
    "print ([x for x in res])"
   ]
  },
  {
   "cell_type": "markdown",
   "id": "9c1d8a1e",
   "metadata": {},
   "source": [
    "### Q7 Write a program to count the number of elements in the string (given by the user) that are not present in the 'my_string'. Do not count the white spaces.\n"
   ]
  },
  {
   "cell_type": "code",
   "execution_count": null,
   "id": "5ddbb548",
   "metadata": {},
   "outputs": [],
   "source": [
    "ip = input(\"Enter the string\\n\")\n",
    "my_string = 'Data Science'\n",
    "count = 0\n",
    "\n",
    "for i in ip:\n",
    "    if i not in my_string:\n",
    "        count+=1\n",
    "        \n",
    "print(count)"
   ]
  },
  {
   "cell_type": "markdown",
   "id": "f7d54d9c",
   "metadata": {},
   "source": [
    "### Q8 Define a function to check whether a number is in a range (1000,10000) or not."
   ]
  },
  {
   "cell_type": "code",
   "execution_count": null,
   "id": "cbc93c3e",
   "metadata": {},
   "outputs": [],
   "source": [
    "def check (num):\n",
    "    if num in range(1000, 10000):\n",
    "        return 'Number in the range'\n",
    "    else:\n",
    "        return 'Number not in the range'\n",
    "\n",
    "\n",
    "check(100)"
   ]
  },
  {
   "cell_type": "markdown",
   "id": "1d78cdbd",
   "metadata": {},
   "source": [
    "### Q9 Write a program to print pascal triangle upto 6 steps "
   ]
  },
  {
   "cell_type": "code",
   "execution_count": null,
   "id": "d7a25140",
   "metadata": {},
   "outputs": [],
   "source": [
    "from math import factorial\n",
    " \n",
    "\n",
    "n = 6\n",
    "for i in range(n):\n",
    "    for j in range(n-i+1):        \n",
    "        print(end=\" \") \n",
    "    for j in range(i+1):\n",
    "        print(factorial(i)//(factorial(j)*factorial(i-j)), end=\" \")    \n",
    "    print()"
   ]
  },
  {
   "cell_type": "markdown",
   "id": "831ec9db",
   "metadata": {},
   "source": [
    "### Q10 Write a program to calculate the sum of all elements in the list."
   ]
  },
  {
   "cell_type": "code",
   "execution_count": null,
   "id": "7818a3ff",
   "metadata": {},
   "outputs": [],
   "source": [
    "test_score = [10, 32, 23, 14, 25]\n",
    "print(sum(test_score))"
   ]
  },
  {
   "cell_type": "code",
   "execution_count": null,
   "id": "e3b6abe8",
   "metadata": {},
   "outputs": [],
   "source": [
    "sum = 0\n",
    "for score in test_score:\n",
    "    sum += score\n",
    "print(sum)"
   ]
  },
  {
   "cell_type": "markdown",
   "id": "c5d83060",
   "metadata": {},
   "source": [
    "### Q11 Find the minimum value along each of the rows.\n"
   ]
  },
  {
   "cell_type": "code",
   "execution_count": null,
   "id": "abc18f48",
   "metadata": {},
   "outputs": [],
   "source": [
    "import numpy as np\n",
    "Score = np.array([[210, 402, 383],\n",
    "[140, 375, 106],\n",
    "[140, 125, 217],\n",
    "[292, 240, 295]])\n",
    "\n",
    "for row in Score:\n",
    "    print(min(row))"
   ]
  },
  {
   "cell_type": "markdown",
   "id": "be98cfec",
   "metadata": {},
   "source": [
    "### Q12 Replace all even numbers in the array with -1.\n"
   ]
  },
  {
   "cell_type": "code",
   "execution_count": null,
   "id": "142d1764",
   "metadata": {},
   "outputs": [],
   "source": [
    "num_array = np.array([0, 21, 32, 13, 44, 45,\n",
    "26, 28, 38, 34, 65, 48, 76])\n",
    "\n",
    "for i in range(len(num_array)):\n",
    "    if num_array[i]%2 == 0:\n",
    "        num_array[i]=-1\n",
    "    else:\n",
    "        continue\n",
    "num_array"
   ]
  },
  {
   "cell_type": "code",
   "execution_count": null,
   "id": "cfd392bc",
   "metadata": {},
   "outputs": [],
   "source": []
  }
 ],
 "metadata": {
  "kernelspec": {
   "display_name": "Python 3 (ipykernel)",
   "language": "python",
   "name": "python3"
  },
  "language_info": {
   "codemirror_mode": {
    "name": "ipython",
    "version": 3
   },
   "file_extension": ".py",
   "mimetype": "text/x-python",
   "name": "python",
   "nbconvert_exporter": "python",
   "pygments_lexer": "ipython3",
   "version": "3.9.7"
  }
 },
 "nbformat": 4,
 "nbformat_minor": 5
}
