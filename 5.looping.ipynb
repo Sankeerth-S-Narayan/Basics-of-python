{
 "cells": [
  {
   "cell_type": "markdown",
   "id": "745906e3",
   "metadata": {},
   "source": [
    "# While Loop"
   ]
  },
  {
   "cell_type": "code",
   "execution_count": 11,
   "id": "0591dcdb",
   "metadata": {},
   "outputs": [
    {
     "name": "stdout",
     "output_type": "stream",
     "text": [
      "sum is: 55\n"
     ]
    }
   ],
   "source": [
    "num=10\n",
    "i=1\n",
    "su=0\n",
    "while(i<=num):\n",
    "    su=su+i\n",
    "    i=i+1\n",
    "print(\"sum is:\",su)"
   ]
  },
  {
   "cell_type": "markdown",
   "id": "be783b9c",
   "metadata": {},
   "source": [
    "# adding 10 odd nos"
   ]
  },
  {
   "cell_type": "code",
   "execution_count": 17,
   "id": "c8005c56",
   "metadata": {},
   "outputs": [
    {
     "ename": "TypeError",
     "evalue": "'<=' not supported between instances of 'int' and 'range'",
     "output_type": "error",
     "traceback": [
      "\u001b[1;31m---------------------------------------------------------------------------\u001b[0m",
      "\u001b[1;31mTypeError\u001b[0m                                 Traceback (most recent call last)",
      "\u001b[1;32m<ipython-input-17-c986d0013514>\u001b[0m in \u001b[0;36m<module>\u001b[1;34m\u001b[0m\n\u001b[0;32m      2\u001b[0m \u001b[0mi\u001b[0m\u001b[1;33m=\u001b[0m\u001b[1;36m1\u001b[0m\u001b[1;33m\u001b[0m\u001b[1;33m\u001b[0m\u001b[0m\n\u001b[0;32m      3\u001b[0m \u001b[0msum\u001b[0m\u001b[1;33m=\u001b[0m\u001b[1;36m0\u001b[0m\u001b[1;33m\u001b[0m\u001b[1;33m\u001b[0m\u001b[0m\n\u001b[1;32m----> 4\u001b[1;33m \u001b[1;32mwhile\u001b[0m\u001b[1;33m(\u001b[0m\u001b[0mi\u001b[0m\u001b[1;33m<=\u001b[0m\u001b[0mnum\u001b[0m\u001b[1;33m)\u001b[0m\u001b[1;33m:\u001b[0m\u001b[1;33m\u001b[0m\u001b[1;33m\u001b[0m\u001b[0m\n\u001b[0m\u001b[0;32m      5\u001b[0m     \u001b[1;32mif\u001b[0m\u001b[1;33m(\u001b[0m\u001b[0mi\u001b[0m\u001b[1;33m%\u001b[0m\u001b[1;36m2\u001b[0m\u001b[1;33m!=\u001b[0m\u001b[1;36m0\u001b[0m\u001b[1;33m)\u001b[0m\u001b[1;33m:\u001b[0m\u001b[1;33m\u001b[0m\u001b[1;33m\u001b[0m\u001b[0m\n\u001b[0;32m      6\u001b[0m         \u001b[0msum\u001b[0m\u001b[1;33m=\u001b[0m\u001b[0msum\u001b[0m\u001b[1;33m+\u001b[0m\u001b[0mi\u001b[0m\u001b[1;33m\u001b[0m\u001b[1;33m\u001b[0m\u001b[0m\n",
      "\u001b[1;31mTypeError\u001b[0m: '<=' not supported between instances of 'int' and 'range'"
     ]
    }
   ],
   "source": [
    "num=range(1,11)\n",
    "i=1\n",
    "sum=0\n",
    "while(i<=num):\n",
    "    if(i%2!=0):\n",
    "        sum=sum+i\n",
    "        i=i+1\n",
    "    else:\n",
    "        i+=1\n",
    "print(\"the sum is:\",sum)"
   ]
  },
  {
   "cell_type": "code",
   "execution_count": null,
   "id": "e479ba2a",
   "metadata": {},
   "outputs": [],
   "source": [
    "# complete shortcut keys \n",
    "difference between for and while loop \n",
    "data analytics with python\n",
    "data analytics with R\n"
   ]
  },
  {
   "cell_type": "code",
   "execution_count": 23,
   "id": "86e85074",
   "metadata": {},
   "outputs": [
    {
     "name": "stdout",
     "output_type": "stream",
     "text": [
      "the sum is: 25\n"
     ]
    }
   ],
   "source": [
    "num=range(1,11)\n",
    "i=1\n",
    "sum=0\n",
    "for i in num:\n",
    "    if(i%2!=0):\n",
    "        sum=sum+i\n",
    "        i=i+1\n",
    "    else:\n",
    "        i+=1\n",
    "print(\"the sum is:\",sum)"
   ]
  },
  {
   "cell_type": "markdown",
   "id": "c4576aaa",
   "metadata": {},
   "source": [
    "# getting out of a loop"
   ]
  },
  {
   "cell_type": "code",
   "execution_count": null,
   "id": "3663a4da",
   "metadata": {},
   "outputs": [],
   "source": [
    "#break"
   ]
  },
  {
   "cell_type": "code",
   "execution_count": 10,
   "id": "9a17d352",
   "metadata": {},
   "outputs": [
    {
     "name": "stdout",
     "output_type": "stream",
     "text": [
      "1\n",
      "2\n",
      "3\n",
      "4\n"
     ]
    }
   ],
   "source": [
    "num=range(1,10)\n",
    "i=1\n",
    "for i in num:\n",
    "    if(i%5==0):\n",
    "        break\n",
    "    else:   \n",
    "        print(i)"
   ]
  },
  {
   "cell_type": "code",
   "execution_count": null,
   "id": "c8056542",
   "metadata": {},
   "outputs": [],
   "source": [
    "#Continue"
   ]
  },
  {
   "cell_type": "code",
   "execution_count": 11,
   "id": "e0dbdfb9",
   "metadata": {},
   "outputs": [
    {
     "name": "stdout",
     "output_type": "stream",
     "text": [
      "1\n",
      "2\n",
      "3\n",
      "4\n",
      "6\n",
      "7\n",
      "8\n",
      "9\n"
     ]
    }
   ],
   "source": [
    "num=range(1,10)\n",
    "i=1\n",
    "for i in num:\n",
    "    if(i%5==0):\n",
    "        continue\n",
    "    else:   \n",
    "        print(i)"
   ]
  },
  {
   "cell_type": "markdown",
   "id": "e4770589",
   "metadata": {},
   "source": [
    "# nested for loop"
   ]
  },
  {
   "cell_type": "code",
   "execution_count": 15,
   "id": "42f4b92e",
   "metadata": {},
   "outputs": [
    {
     "name": "stdout",
     "output_type": "stream",
     "text": [
      "enter the no:5\n",
      "1 \n",
      "\n",
      "1 2 \n",
      "\n",
      "1 2 3 \n",
      "\n",
      "1 2 3 4 \n",
      "\n",
      "1 2 3 4 5 \n",
      "\n"
     ]
    }
   ],
   "source": [
    "a=int(input(\"enter the no:\"))\n",
    "for i in range(1,a+1):\n",
    "    for j in range (1,i+1):\n",
    "        print(j,end =' ' )\n",
    "    print(\"\\n\")"
   ]
  }
 ],
 "metadata": {
  "kernelspec": {
   "display_name": "Python 3",
   "language": "python",
   "name": "python3"
  },
  "language_info": {
   "codemirror_mode": {
    "name": "ipython",
    "version": 3
   },
   "file_extension": ".py",
   "mimetype": "text/x-python",
   "name": "python",
   "nbconvert_exporter": "python",
   "pygments_lexer": "ipython3",
   "version": "3.8.8"
  }
 },
 "nbformat": 4,
 "nbformat_minor": 5
}
