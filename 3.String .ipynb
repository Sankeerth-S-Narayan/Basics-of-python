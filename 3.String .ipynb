{
 "cells": [
  {
   "cell_type": "markdown",
   "id": "bb1b6900",
   "metadata": {},
   "source": [
    "# Function is a block of reusable code that runs when called"
   ]
  },
  {
   "cell_type": "code",
   "execution_count": 1,
   "id": "686031e2",
   "metadata": {},
   "outputs": [
    {
     "name": "stdout",
     "output_type": "stream",
     "text": [
      "helllo world 10\n"
     ]
    }
   ],
   "source": [
    "a=10\n",
    "print(\"helllo\",\"world\",a)"
   ]
  },
  {
   "cell_type": "code",
   "execution_count": 17,
   "id": "132d6b91",
   "metadata": {},
   "outputs": [
    {
     "ename": "TypeError",
     "evalue": "'scp' is an invalid keyword argument for print()",
     "output_type": "error",
     "traceback": [
      "\u001b[1;31m---------------------------------------------------------------------------\u001b[0m",
      "\u001b[1;31mTypeError\u001b[0m                                 Traceback (most recent call last)",
      "\u001b[1;32m<ipython-input-17-9d145c0e7f00>\u001b[0m in \u001b[0;36m<module>\u001b[1;34m\u001b[0m\n\u001b[1;32m----> 1\u001b[1;33m \u001b[0mprint\u001b[0m \u001b[1;33m(\u001b[0m\u001b[1;34m\"I am curious to learn data science\"\u001b[0m\u001b[1;33m,\u001b[0m\u001b[0mscp\u001b[0m\u001b[1;33m=\u001b[0m\u001b[1;34m\",\"\u001b[0m\u001b[1;33m)\u001b[0m\u001b[1;33m\u001b[0m\u001b[1;33m\u001b[0m\u001b[0m\n\u001b[0m",
      "\u001b[1;31mTypeError\u001b[0m: 'scp' is an invalid keyword argument for print()"
     ]
    }
   ],
   "source": [
    "print (\"I am curious to learn data science\",scp=\",\")"
   ]
  },
  {
   "cell_type": "code",
   "execution_count": 5,
   "id": "3563f33d",
   "metadata": {},
   "outputs": [
    {
     "name": "stdout",
     "output_type": "stream",
     "text": [
      "I am curious to learn,data,science\n"
     ]
    }
   ],
   "source": [
    "print (\"I am curious to learn\", \"data\" ,\"science\",sep=\",\")"
   ]
  },
  {
   "cell_type": "code",
   "execution_count": 6,
   "id": "05c29e3f",
   "metadata": {},
   "outputs": [
    {
     "name": "stdout",
     "output_type": "stream",
     "text": [
      "I am curious to learn#data#science\n"
     ]
    }
   ],
   "source": [
    "print (\"I am curious to learn\", \"data\" ,\"science\",sep=\"#\")"
   ]
  },
  {
   "cell_type": "code",
   "execution_count": 7,
   "id": "4daf837a",
   "metadata": {},
   "outputs": [
    {
     "name": "stdout",
     "output_type": "stream",
     "text": [
      "I am curious to learn\n",
      "data\n",
      "science\n"
     ]
    }
   ],
   "source": [
    "print (\"I am curious to learn\", \"data\" ,\"science\",sep=\"\\n\")"
   ]
  },
  {
   "cell_type": "code",
   "execution_count": 8,
   "id": "ee4f6e84",
   "metadata": {},
   "outputs": [
    {
     "name": "stdout",
     "output_type": "stream",
     "text": [
      "I am curious to learn\tdata\tscience\n"
     ]
    }
   ],
   "source": [
    "print (\"I am curious to learn\", \"data\" ,\"science\",sep=\"\\t\")"
   ]
  },
  {
   "cell_type": "code",
   "execution_count": 9,
   "id": "04666c65",
   "metadata": {},
   "outputs": [
    {
     "name": "stdout",
     "output_type": "stream",
     "text": [
      "I am curious to learn\f",
      "data\f",
      "science\n"
     ]
    }
   ],
   "source": [
    "print (\"I am curious to learn\", \"data\" ,\"science\",sep=\"\\f\")"
   ]
  },
  {
   "cell_type": "code",
   "execution_count": 10,
   "id": "66ef1f43",
   "metadata": {},
   "outputs": [
    {
     "name": "stdout",
     "output_type": "stream",
     "text": [
      "This is san's car\n"
     ]
    }
   ],
   "source": [
    "print (\"This is san's car\")"
   ]
  },
  {
   "cell_type": "code",
   "execution_count": 11,
   "id": "50a808ad",
   "metadata": {},
   "outputs": [
    {
     "name": "stdout",
     "output_type": "stream",
     "text": [
      "This is san\"s car\n"
     ]
    }
   ],
   "source": [
    "print (\"This is san\\\"s car\")"
   ]
  },
  {
   "cell_type": "code",
   "execution_count": 12,
   "id": "a7e3d49e",
   "metadata": {},
   "outputs": [
    {
     "ename": "SyntaxError",
     "evalue": "invalid syntax (<ipython-input-12-1f4771963bfe>, line 1)",
     "output_type": "error",
     "traceback": [
      "\u001b[1;36m  File \u001b[1;32m\"<ipython-input-12-1f4771963bfe>\"\u001b[1;36m, line \u001b[1;32m1\u001b[0m\n\u001b[1;33m    print (\"This is san\"s car\")\u001b[0m\n\u001b[1;37m                        ^\u001b[0m\n\u001b[1;31mSyntaxError\u001b[0m\u001b[1;31m:\u001b[0m invalid syntax\n"
     ]
    }
   ],
   "source": [
    "print (\"This is san\"s car\")"
   ]
  },
  {
   "cell_type": "code",
   "execution_count": 13,
   "id": "2828b2df",
   "metadata": {},
   "outputs": [
    {
     "name": "stdout",
     "output_type": "stream",
     "text": [
      "python isfair\n"
     ]
    }
   ],
   "source": [
    "print(\"python is\" + \"fair\")"
   ]
  },
  {
   "cell_type": "code",
   "execution_count": 14,
   "id": "4d9130c1",
   "metadata": {},
   "outputs": [
    {
     "ename": "TypeError",
     "evalue": "can only concatenate str (not \"int\") to str",
     "output_type": "error",
     "traceback": [
      "\u001b[1;31m---------------------------------------------------------------------------\u001b[0m",
      "\u001b[1;31mTypeError\u001b[0m                                 Traceback (most recent call last)",
      "\u001b[1;32m<ipython-input-14-c855162403e2>\u001b[0m in \u001b[0;36m<module>\u001b[1;34m\u001b[0m\n\u001b[1;32m----> 1\u001b[1;33m \u001b[0mprint\u001b[0m\u001b[1;33m(\u001b[0m\u001b[1;34m\"python is\"\u001b[0m \u001b[1;33m+\u001b[0m \u001b[1;36m5\u001b[0m\u001b[1;33m)\u001b[0m\u001b[1;33m\u001b[0m\u001b[1;33m\u001b[0m\u001b[0m\n\u001b[0m",
      "\u001b[1;31mTypeError\u001b[0m: can only concatenate str (not \"int\") to str"
     ]
    }
   ],
   "source": [
    "print(\"python is\" + 5)"
   ]
  },
  {
   "cell_type": "code",
   "execution_count": 15,
   "id": "1d1ccecd",
   "metadata": {},
   "outputs": [
    {
     "name": "stdout",
     "output_type": "stream",
     "text": [
      "python isfair25\n"
     ]
    }
   ],
   "source": [
    "print(\"python is\" + \"fair\"+str(25))"
   ]
  }
 ],
 "metadata": {
  "kernelspec": {
   "display_name": "Python 3",
   "language": "python",
   "name": "python3"
  },
  "language_info": {
   "codemirror_mode": {
    "name": "ipython",
    "version": 3
   },
   "file_extension": ".py",
   "mimetype": "text/x-python",
   "name": "python",
   "nbconvert_exporter": "python",
   "pygments_lexer": "ipython3",
   "version": "3.8.8"
  }
 },
 "nbformat": 4,
 "nbformat_minor": 5
}
